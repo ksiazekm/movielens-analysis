{
 "cells": [
  {
   "cell_type": "markdown",
   "metadata": {},
   "source": [
    "# Movielens 1M"
   ]
  },
  {
   "cell_type": "markdown",
   "metadata": {},
   "source": [
    "Informację nt. zbioru danych -> http://files.grouplens.org/datasets/movielens/ml-1m-README.txt"
   ]
  },
  {
   "cell_type": "code",
   "execution_count": 1,
   "metadata": {},
   "outputs": [],
   "source": [
    "import numpy as np\n",
    "import pandas as pd\n",
    "import matplotlib.pyplot as plt"
   ]
  },
  {
   "cell_type": "code",
   "execution_count": 2,
   "metadata": {},
   "outputs": [],
   "source": [
    "user_data = pd.read_csv('../ml-1m/users.dat', \n",
    "                    sep=\"::\",\n",
    "                    names=['user_id', 'sex', 'age_id', 'occupation_id', 'zip_code'],\n",
    "                    engine='python'\n",
    "                )\n",
    "age = pd.read_csv('../ml-1m/age.dat', \n",
    "                    sep=\"::\",\n",
    "                    names=['age_id', 'age_group'],\n",
    "                    engine='python'\n",
    "                )\n",
    "occupation = pd.read_csv('../ml-1m/occupation.dat', \n",
    "                    sep=\"::\",\n",
    "                    names=['occupation_id', 'occupation'],\n",
    "                    engine='python'\n",
    "                )\n",
    "movies_data = pd.read_csv('../ml-1m/movies.dat', \n",
    "                    sep=\"::\",\n",
    "                    names=['movie_id', 'title', 'genres'],\n",
    "                    engine='python'\n",
    "                )\n",
    "ratings_data = pd.read_csv('../ml-1m/ratings.dat', \n",
    "                    sep=\"::\",\n",
    "                    names=['user_id', 'movie_id', 'rating', 'timestamp'],\n",
    "                    engine='python'\n",
    "                )\n",
    "\n",
    "ratings_data['datetime'] = pd.to_datetime(ratings_data.timestamp, unit='s')\n",
    "ratings_data['year'] = ratings_data.datetime.dt.year\n",
    "ratings_data['month'] = ratings_data.datetime.dt.month\n",
    "ratings_data['weekday'] = ratings_data.datetime.dt.weekday_name"
   ]
  },
  {
   "cell_type": "code",
   "execution_count": 3,
   "metadata": {},
   "outputs": [],
   "source": [
    "users = pd.merge(user_data, age)\n",
    "users = pd.merge(users, occupation)"
   ]
  },
  {
   "cell_type": "code",
   "execution_count": 4,
   "metadata": {},
   "outputs": [
    {
     "data": {
      "text/html": [
       "<div>\n",
       "<style>\n",
       "    .dataframe thead tr:only-child th {\n",
       "        text-align: right;\n",
       "    }\n",
       "\n",
       "    .dataframe thead th {\n",
       "        text-align: left;\n",
       "    }\n",
       "\n",
       "    .dataframe tbody tr th {\n",
       "        vertical-align: top;\n",
       "    }\n",
       "</style>\n",
       "<table border=\"1\" class=\"dataframe\">\n",
       "  <thead>\n",
       "    <tr style=\"text-align: right;\">\n",
       "      <th></th>\n",
       "      <th>user_id</th>\n",
       "      <th>sex</th>\n",
       "      <th>age_id</th>\n",
       "      <th>occupation_id</th>\n",
       "      <th>zip_code</th>\n",
       "      <th>age_group</th>\n",
       "      <th>occupation</th>\n",
       "      <th>movie_id</th>\n",
       "      <th>title</th>\n",
       "      <th>genres</th>\n",
       "      <th>rating</th>\n",
       "      <th>timestamp</th>\n",
       "      <th>datetime</th>\n",
       "      <th>year</th>\n",
       "      <th>month</th>\n",
       "      <th>weekday</th>\n",
       "    </tr>\n",
       "  </thead>\n",
       "  <tbody>\n",
       "    <tr>\n",
       "      <th>0</th>\n",
       "      <td>1</td>\n",
       "      <td>F</td>\n",
       "      <td>1</td>\n",
       "      <td>10</td>\n",
       "      <td>48067</td>\n",
       "      <td>0-18</td>\n",
       "      <td>student</td>\n",
       "      <td>1</td>\n",
       "      <td>Toy Story (1995)</td>\n",
       "      <td>Animation|Children's|Comedy</td>\n",
       "      <td>5</td>\n",
       "      <td>978824268</td>\n",
       "      <td>2001-01-06 23:37:48</td>\n",
       "      <td>2001</td>\n",
       "      <td>1</td>\n",
       "      <td>Saturday</td>\n",
       "    </tr>\n",
       "    <tr>\n",
       "      <th>1</th>\n",
       "      <td>1</td>\n",
       "      <td>F</td>\n",
       "      <td>1</td>\n",
       "      <td>10</td>\n",
       "      <td>48067</td>\n",
       "      <td>0-18</td>\n",
       "      <td>student</td>\n",
       "      <td>48</td>\n",
       "      <td>Pocahontas (1995)</td>\n",
       "      <td>Animation|Children's|Musical|Romance</td>\n",
       "      <td>5</td>\n",
       "      <td>978824351</td>\n",
       "      <td>2001-01-06 23:39:11</td>\n",
       "      <td>2001</td>\n",
       "      <td>1</td>\n",
       "      <td>Saturday</td>\n",
       "    </tr>\n",
       "    <tr>\n",
       "      <th>2</th>\n",
       "      <td>1</td>\n",
       "      <td>F</td>\n",
       "      <td>1</td>\n",
       "      <td>10</td>\n",
       "      <td>48067</td>\n",
       "      <td>0-18</td>\n",
       "      <td>student</td>\n",
       "      <td>150</td>\n",
       "      <td>Apollo 13 (1995)</td>\n",
       "      <td>Drama</td>\n",
       "      <td>5</td>\n",
       "      <td>978301777</td>\n",
       "      <td>2000-12-31 22:29:37</td>\n",
       "      <td>2000</td>\n",
       "      <td>12</td>\n",
       "      <td>Sunday</td>\n",
       "    </tr>\n",
       "    <tr>\n",
       "      <th>3</th>\n",
       "      <td>1</td>\n",
       "      <td>F</td>\n",
       "      <td>1</td>\n",
       "      <td>10</td>\n",
       "      <td>48067</td>\n",
       "      <td>0-18</td>\n",
       "      <td>student</td>\n",
       "      <td>260</td>\n",
       "      <td>Star Wars: Episode IV - A New Hope (1977)</td>\n",
       "      <td>Action|Adventure|Fantasy|Sci-Fi</td>\n",
       "      <td>4</td>\n",
       "      <td>978300760</td>\n",
       "      <td>2000-12-31 22:12:40</td>\n",
       "      <td>2000</td>\n",
       "      <td>12</td>\n",
       "      <td>Sunday</td>\n",
       "    </tr>\n",
       "    <tr>\n",
       "      <th>4</th>\n",
       "      <td>1</td>\n",
       "      <td>F</td>\n",
       "      <td>1</td>\n",
       "      <td>10</td>\n",
       "      <td>48067</td>\n",
       "      <td>0-18</td>\n",
       "      <td>student</td>\n",
       "      <td>527</td>\n",
       "      <td>Schindler's List (1993)</td>\n",
       "      <td>Drama|War</td>\n",
       "      <td>5</td>\n",
       "      <td>978824195</td>\n",
       "      <td>2001-01-06 23:36:35</td>\n",
       "      <td>2001</td>\n",
       "      <td>1</td>\n",
       "      <td>Saturday</td>\n",
       "    </tr>\n",
       "  </tbody>\n",
       "</table>\n",
       "</div>"
      ],
      "text/plain": [
       "   user_id sex  age_id  occupation_id zip_code age_group occupation  movie_id  \\\n",
       "0        1   F       1             10    48067      0-18    student         1   \n",
       "1        1   F       1             10    48067      0-18    student        48   \n",
       "2        1   F       1             10    48067      0-18    student       150   \n",
       "3        1   F       1             10    48067      0-18    student       260   \n",
       "4        1   F       1             10    48067      0-18    student       527   \n",
       "\n",
       "                                       title  \\\n",
       "0                           Toy Story (1995)   \n",
       "1                          Pocahontas (1995)   \n",
       "2                           Apollo 13 (1995)   \n",
       "3  Star Wars: Episode IV - A New Hope (1977)   \n",
       "4                    Schindler's List (1993)   \n",
       "\n",
       "                                 genres  rating  timestamp  \\\n",
       "0           Animation|Children's|Comedy       5  978824268   \n",
       "1  Animation|Children's|Musical|Romance       5  978824351   \n",
       "2                                 Drama       5  978301777   \n",
       "3       Action|Adventure|Fantasy|Sci-Fi       4  978300760   \n",
       "4                             Drama|War       5  978824195   \n",
       "\n",
       "             datetime  year  month   weekday  \n",
       "0 2001-01-06 23:37:48  2001      1  Saturday  \n",
       "1 2001-01-06 23:39:11  2001      1  Saturday  \n",
       "2 2000-12-31 22:29:37  2000     12    Sunday  \n",
       "3 2000-12-31 22:12:40  2000     12    Sunday  \n",
       "4 2001-01-06 23:36:35  2001      1  Saturday  "
      ]
     },
     "execution_count": 4,
     "metadata": {},
     "output_type": "execute_result"
    }
   ],
   "source": [
    "movie_ratings = pd.merge(movies_data, ratings_data)\n",
    "movielens = pd.merge(users, movie_ratings)\n",
    "movielens.head()"
   ]
  },
  {
   "cell_type": "markdown",
   "metadata": {},
   "source": [
    "## Podstawowe metryki"
   ]
  },
  {
   "cell_type": "code",
   "execution_count": 5,
   "metadata": {},
   "outputs": [
    {
     "data": {
      "text/plain": [
       "3883"
      ]
     },
     "execution_count": 5,
     "metadata": {},
     "output_type": "execute_result"
    }
   ],
   "source": [
    "len(movies_data) # ilość filmów"
   ]
  },
  {
   "cell_type": "code",
   "execution_count": 6,
   "metadata": {},
   "outputs": [
    {
     "data": {
      "text/plain": [
       "6040"
      ]
     },
     "execution_count": 6,
     "metadata": {},
     "output_type": "execute_result"
    }
   ],
   "source": [
    "len(user_data) ## ilośc userów"
   ]
  },
  {
   "cell_type": "code",
   "execution_count": 7,
   "metadata": {},
   "outputs": [
    {
     "data": {
      "text/plain": [
       "1000209"
      ]
     },
     "execution_count": 7,
     "metadata": {},
     "output_type": "execute_result"
    }
   ],
   "source": [
    "len(ratings_data) ## ilośc ocen"
   ]
  },
  {
   "cell_type": "markdown",
   "metadata": {},
   "source": [
    "## Sprawdzenie szumów"
   ]
  },
  {
   "cell_type": "code",
   "execution_count": 8,
   "metadata": {},
   "outputs": [
    {
     "data": {
      "text/plain": [
       "title\n",
       "eXistenZ (1999)        1\n",
       "Forrest Gump (1994)    1\n",
       "dtype: int64"
      ]
     },
     "execution_count": 8,
     "metadata": {},
     "output_type": "execute_result"
    }
   ],
   "source": [
    "movies_data.groupby('title').size().sort_values(ascending=False)[:2]"
   ]
  },
  {
   "cell_type": "code",
   "execution_count": 9,
   "metadata": {},
   "outputs": [
    {
     "data": {
      "text/plain": [
       "user_id\n",
       "6040    1\n",
       "2017    1\n",
       "dtype: int64"
      ]
     },
     "execution_count": 9,
     "metadata": {},
     "output_type": "execute_result"
    }
   ],
   "source": [
    "user_data.groupby('user_id').size().sort_values(ascending=False)[:2]"
   ]
  },
  {
   "cell_type": "code",
   "execution_count": 10,
   "metadata": {},
   "outputs": [
    {
     "data": {
      "text/plain": [
       "user_id  movie_id\n",
       "6040     3819        1\n",
       "1968     1672        1\n",
       "dtype: int64"
      ]
     },
     "execution_count": 10,
     "metadata": {},
     "output_type": "execute_result"
    }
   ],
   "source": [
    "movielens.groupby(['user_id', 'movie_id']).size().sort_values(ascending=False)[:2]"
   ]
  },
  {
   "cell_type": "markdown",
   "metadata": {},
   "source": [
    "### Jak widać w zbiorze danych nie występują szumy w postaci zduplikowanych filmów, użytkowników, czy też ocen przyznanych przez użytkowników do danego filmu"
   ]
  },
  {
   "cell_type": "markdown",
   "metadata": {},
   "source": [
    "## Analiza danych użytkowników"
   ]
  },
  {
   "cell_type": "code",
   "execution_count": 11,
   "metadata": {},
   "outputs": [
    {
     "name": "stdout",
     "output_type": "stream",
     "text": [
      "college/grad student    759\n",
      "other                   711\n",
      "executive/managerial    679\n",
      "academic/educator       528\n",
      "technician/engineer     502\n",
      "programmer              388\n",
      "sales/marketing         302\n",
      "writer                  281\n",
      "artist                  267\n",
      "self-employed           241\n",
      "doctor/health care      236\n",
      "student                 195\n",
      "clerical/admin          173\n",
      "scientist               144\n",
      "retired                 142\n",
      "lawyer                  129\n",
      "customer service        112\n",
      "homemaker                92\n",
      "unemployed               72\n",
      "tradesman/craftsman      70\n",
      "farmer                   17\n",
      "Name: occupation, dtype: int64\n"
     ]
    },
    {
     "data": {
      "image/png": "[encoded data removed]",
      "text/plain": [
       "<matplotlib.figure.Figure at 0x7fdecd19bda0>"
      ]
     },
     "metadata": {},
     "output_type": "display_data"
    }
   ],
   "source": [
    "occcupations = users.occupation.value_counts()\n",
    "print(occcupations)\n",
    "\n",
    "x = range(len(occcupations))\n",
    "\n",
    "occupation_by_gender = users.groupby(['sex', 'occupation']).size()\n",
    "\n",
    "ax = plt.subplot(111)\n",
    "ax.bar(x, occupation_by_gender['M'])\n",
    "ax.bar(x, occupation_by_gender['F'])\n",
    "ax.set_xticks(x)\n",
    "ax.set_xticklabels(occupation_by_gender['M'].keys(), rotation=90)\n",
    "plt.show()"
   ]
  },
  {
   "cell_type": "code",
   "execution_count": 12,
   "metadata": {},
   "outputs": [],
   "source": [
    "age_bins = users.age_group.value_counts()"
   ]
  },
  {
   "cell_type": "code",
   "execution_count": 13,
   "metadata": {},
   "outputs": [
    {
     "data": {
      "image/png": "[encoded data removed]",
      "text/plain": [
       "<matplotlib.figure.Figure at 0x7fdeccd60d30>"
      ]
     },
     "metadata": {},
     "output_type": "display_data"
    }
   ],
   "source": [
    "x = range(len(age_bins))\n",
    "\n",
    "plt.bar(x, age_bins)\n",
    "plt.xticks(x, age_bins.keys())\n",
    "plt.show()"
   ]
  },
  {
   "cell_type": "code",
   "execution_count": 14,
   "metadata": {},
   "outputs": [
    {
     "data": {
      "text/plain": [
       "M    4331\n",
       "F    1709\n",
       "Name: sex, dtype: int64"
      ]
     },
     "execution_count": 14,
     "metadata": {},
     "output_type": "execute_result"
    }
   ],
   "source": [
    "users.sex.value_counts()"
   ]
  },
  {
   "cell_type": "markdown",
   "metadata": {},
   "source": [
    "## Analiza danych o ocenach filmów"
   ]
  },
  {
   "cell_type": "code",
   "execution_count": 15,
   "metadata": {},
   "outputs": [
    {
     "name": "stdout",
     "output_type": "stream",
     "text": [
      "rating\n",
      "1     56174\n",
      "2    107557\n",
      "3    261197\n",
      "4    348971\n",
      "5    226310\n",
      "dtype: int64\n"
     ]
    },
    {
     "data": {
      "image/png": "[encoded data removed]",
      "text/plain": [
       "<matplotlib.figure.Figure at 0x7fdeccdba4e0>"
      ]
     },
     "metadata": {},
     "output_type": "display_data"
    }
   ],
   "source": [
    "grouped_ratings = movielens.groupby('rating').size()\n",
    "print(grouped_ratings)\n",
    "\n",
    "x = range(len(grouped_ratings))\n",
    "\n",
    "plt.bar(x, grouped_ratings)\n",
    "plt.xticks(x, grouped_ratings.keys())\n",
    "plt.show()"
   ]
  },
  {
   "cell_type": "markdown",
   "metadata": {},
   "source": [
    "### 25 najczęściej ocenianych filmów"
   ]
  },
  {
   "cell_type": "code",
   "execution_count": 16,
   "metadata": {},
   "outputs": [
    {
     "data": {
      "text/plain": [
       "American Beauty (1999)                                   3428\n",
       "Star Wars: Episode IV - A New Hope (1977)                2991\n",
       "Star Wars: Episode V - The Empire Strikes Back (1980)    2990\n",
       "Star Wars: Episode VI - Return of the Jedi (1983)        2883\n",
       "Jurassic Park (1993)                                     2672\n",
       "Saving Private Ryan (1998)                               2653\n",
       "Terminator 2: Judgment Day (1991)                        2649\n",
       "Matrix, The (1999)                                       2590\n",
       "Back to the Future (1985)                                2583\n",
       "Silence of the Lambs, The (1991)                         2578\n",
       "Men in Black (1997)                                      2538\n",
       "Raiders of the Lost Ark (1981)                           2514\n",
       "Fargo (1996)                                             2513\n",
       "Sixth Sense, The (1999)                                  2459\n",
       "Braveheart (1995)                                        2443\n",
       "Shakespeare in Love (1998)                               2369\n",
       "Princess Bride, The (1987)                               2318\n",
       "Schindler's List (1993)                                  2304\n",
       "L.A. Confidential (1997)                                 2288\n",
       "Groundhog Day (1993)                                     2278\n",
       "E.T. the Extra-Terrestrial (1982)                        2269\n",
       "Star Wars: Episode I - The Phantom Menace (1999)         2250\n",
       "Being John Malkovich (1999)                              2241\n",
       "Shawshank Redemption, The (1994)                         2227\n",
       "Godfather, The (1972)                                    2223\n",
       "Name: title, dtype: int64"
      ]
     },
     "execution_count": 16,
     "metadata": {},
     "output_type": "execute_result"
    }
   ],
   "source": [
    "movielens.title.value_counts()[:25]"
   ]
  },
  {
   "cell_type": "markdown",
   "metadata": {},
   "source": [
    "### 25 najlepiej ocenianych filmów"
   ]
  },
  {
   "cell_type": "code",
   "execution_count": 17,
   "metadata": {},
   "outputs": [
    {
     "data": {
      "text/html": [
       "<div>\n",
       "<style>\n",
       "    .dataframe thead tr:only-child th {\n",
       "        text-align: right;\n",
       "    }\n",
       "\n",
       "    .dataframe thead th {\n",
       "        text-align: left;\n",
       "    }\n",
       "\n",
       "    .dataframe tbody tr th {\n",
       "        vertical-align: top;\n",
       "    }\n",
       "</style>\n",
       "<table border=\"1\" class=\"dataframe\">\n",
       "  <thead>\n",
       "    <tr>\n",
       "      <th></th>\n",
       "      <th colspan=\"2\" halign=\"left\">rating</th>\n",
       "    </tr>\n",
       "    <tr>\n",
       "      <th></th>\n",
       "      <th>size</th>\n",
       "      <th>mean</th>\n",
       "    </tr>\n",
       "    <tr>\n",
       "      <th>title</th>\n",
       "      <th></th>\n",
       "      <th></th>\n",
       "    </tr>\n",
       "  </thead>\n",
       "  <tbody>\n",
       "    <tr>\n",
       "      <th>Seven Samurai (The Magnificent Seven) (Shichinin no samurai) (1954)</th>\n",
       "      <td>628</td>\n",
       "      <td>4.560510</td>\n",
       "    </tr>\n",
       "    <tr>\n",
       "      <th>Shawshank Redemption, The (1994)</th>\n",
       "      <td>2227</td>\n",
       "      <td>4.554558</td>\n",
       "    </tr>\n",
       "    <tr>\n",
       "      <th>Godfather, The (1972)</th>\n",
       "      <td>2223</td>\n",
       "      <td>4.524966</td>\n",
       "    </tr>\n",
       "    <tr>\n",
       "      <th>Close Shave, A (1995)</th>\n",
       "      <td>657</td>\n",
       "      <td>4.520548</td>\n",
       "    </tr>\n",
       "    <tr>\n",
       "      <th>Usual Suspects, The (1995)</th>\n",
       "      <td>1783</td>\n",
       "      <td>4.517106</td>\n",
       "    </tr>\n",
       "    <tr>\n",
       "      <th>Schindler's List (1993)</th>\n",
       "      <td>2304</td>\n",
       "      <td>4.510417</td>\n",
       "    </tr>\n",
       "    <tr>\n",
       "      <th>Wrong Trousers, The (1993)</th>\n",
       "      <td>882</td>\n",
       "      <td>4.507937</td>\n",
       "    </tr>\n",
       "    <tr>\n",
       "      <th>Sunset Blvd. (a.k.a. Sunset Boulevard) (1950)</th>\n",
       "      <td>470</td>\n",
       "      <td>4.491489</td>\n",
       "    </tr>\n",
       "    <tr>\n",
       "      <th>Raiders of the Lost Ark (1981)</th>\n",
       "      <td>2514</td>\n",
       "      <td>4.477725</td>\n",
       "    </tr>\n",
       "    <tr>\n",
       "      <th>Rear Window (1954)</th>\n",
       "      <td>1050</td>\n",
       "      <td>4.476190</td>\n",
       "    </tr>\n",
       "    <tr>\n",
       "      <th>Paths of Glory (1957)</th>\n",
       "      <td>230</td>\n",
       "      <td>4.473913</td>\n",
       "    </tr>\n",
       "    <tr>\n",
       "      <th>Star Wars: Episode IV - A New Hope (1977)</th>\n",
       "      <td>2991</td>\n",
       "      <td>4.453694</td>\n",
       "    </tr>\n",
       "    <tr>\n",
       "      <th>Third Man, The (1949)</th>\n",
       "      <td>480</td>\n",
       "      <td>4.452083</td>\n",
       "    </tr>\n",
       "    <tr>\n",
       "      <th>Dr. Strangelove or: How I Learned to Stop Worrying and Love the Bomb (1963)</th>\n",
       "      <td>1367</td>\n",
       "      <td>4.449890</td>\n",
       "    </tr>\n",
       "    <tr>\n",
       "      <th>Wallace &amp; Gromit: The Best of Aardman Animation (1996)</th>\n",
       "      <td>438</td>\n",
       "      <td>4.426941</td>\n",
       "    </tr>\n",
       "    <tr>\n",
       "      <th>To Kill a Mockingbird (1962)</th>\n",
       "      <td>928</td>\n",
       "      <td>4.425647</td>\n",
       "    </tr>\n",
       "    <tr>\n",
       "      <th>Double Indemnity (1944)</th>\n",
       "      <td>551</td>\n",
       "      <td>4.415608</td>\n",
       "    </tr>\n",
       "    <tr>\n",
       "      <th>Casablanca (1942)</th>\n",
       "      <td>1669</td>\n",
       "      <td>4.412822</td>\n",
       "    </tr>\n",
       "    <tr>\n",
       "      <th>Sixth Sense, The (1999)</th>\n",
       "      <td>2459</td>\n",
       "      <td>4.406263</td>\n",
       "    </tr>\n",
       "    <tr>\n",
       "      <th>Yojimbo (1961)</th>\n",
       "      <td>215</td>\n",
       "      <td>4.404651</td>\n",
       "    </tr>\n",
       "    <tr>\n",
       "      <th>Lawrence of Arabia (1962)</th>\n",
       "      <td>831</td>\n",
       "      <td>4.401925</td>\n",
       "    </tr>\n",
       "    <tr>\n",
       "      <th>Maltese Falcon, The (1941)</th>\n",
       "      <td>1043</td>\n",
       "      <td>4.395973</td>\n",
       "    </tr>\n",
       "    <tr>\n",
       "      <th>One Flew Over the Cuckoo's Nest (1975)</th>\n",
       "      <td>1725</td>\n",
       "      <td>4.390725</td>\n",
       "    </tr>\n",
       "    <tr>\n",
       "      <th>Citizen Kane (1941)</th>\n",
       "      <td>1116</td>\n",
       "      <td>4.388889</td>\n",
       "    </tr>\n",
       "    <tr>\n",
       "      <th>City Lights (1931)</th>\n",
       "      <td>271</td>\n",
       "      <td>4.387454</td>\n",
       "    </tr>\n",
       "  </tbody>\n",
       "</table>\n",
       "</div>"
      ],
      "text/plain": [
       "                                                   rating          \n",
       "                                                     size      mean\n",
       "title                                                              \n",
       "Seven Samurai (The Magnificent Seven) (Shichini...    628  4.560510\n",
       "Shawshank Redemption, The (1994)                     2227  4.554558\n",
       "Godfather, The (1972)                                2223  4.524966\n",
       "Close Shave, A (1995)                                 657  4.520548\n",
       "Usual Suspects, The (1995)                           1783  4.517106\n",
       "Schindler's List (1993)                              2304  4.510417\n",
       "Wrong Trousers, The (1993)                            882  4.507937\n",
       "Sunset Blvd. (a.k.a. Sunset Boulevard) (1950)         470  4.491489\n",
       "Raiders of the Lost Ark (1981)                       2514  4.477725\n",
       "Rear Window (1954)                                   1050  4.476190\n",
       "Paths of Glory (1957)                                 230  4.473913\n",
       "Star Wars: Episode IV - A New Hope (1977)            2991  4.453694\n",
       "Third Man, The (1949)                                 480  4.452083\n",
       "Dr. Strangelove or: How I Learned to Stop Worry...   1367  4.449890\n",
       "Wallace & Gromit: The Best of Aardman Animation...    438  4.426941\n",
       "To Kill a Mockingbird (1962)                          928  4.425647\n",
       "Double Indemnity (1944)                               551  4.415608\n",
       "Casablanca (1942)                                    1669  4.412822\n",
       "Sixth Sense, The (1999)                              2459  4.406263\n",
       "Yojimbo (1961)                                        215  4.404651\n",
       "Lawrence of Arabia (1962)                             831  4.401925\n",
       "Maltese Falcon, The (1941)                           1043  4.395973\n",
       "One Flew Over the Cuckoo's Nest (1975)               1725  4.390725\n",
       "Citizen Kane (1941)                                  1116  4.388889\n",
       "City Lights (1931)                                    271  4.387454"
      ]
     },
     "execution_count": 17,
     "metadata": {},
     "output_type": "execute_result"
    }
   ],
   "source": [
    "movie_ratings = movielens.groupby('title').agg({'rating': [np.size, np.mean]})\n",
    "movie_ratings.sort_values([('rating', 'size')])\n",
    "at_least_100_ratings = movie_ratings['rating']['size'] >= 100\n",
    "movie_ratings[at_least_100_ratings].sort_values([('rating', 'mean')], ascending=False)[:25]"
   ]
  },
  {
   "cell_type": "markdown",
   "metadata": {},
   "source": [
    "### Średnia ocen dla danej grupy wiekowej"
   ]
  },
  {
   "cell_type": "code",
   "execution_count": 18,
   "metadata": {},
   "outputs": [
    {
     "data": {
      "text/plain": [
       "3.5815644530293169"
      ]
     },
     "execution_count": 18,
     "metadata": {},
     "output_type": "execute_result"
    }
   ],
   "source": [
    "movielens.rating.mean()"
   ]
  },
  {
   "cell_type": "code",
   "execution_count": 19,
   "metadata": {},
   "outputs": [
    {
     "data": {
      "text/html": [
       "<div>\n",
       "<style>\n",
       "    .dataframe thead tr:only-child th {\n",
       "        text-align: right;\n",
       "    }\n",
       "\n",
       "    .dataframe thead th {\n",
       "        text-align: left;\n",
       "    }\n",
       "\n",
       "    .dataframe tbody tr th {\n",
       "        vertical-align: top;\n",
       "    }\n",
       "</style>\n",
       "<table border=\"1\" class=\"dataframe\">\n",
       "  <thead>\n",
       "    <tr>\n",
       "      <th></th>\n",
       "      <th>rating</th>\n",
       "    </tr>\n",
       "    <tr>\n",
       "      <th></th>\n",
       "      <th>mean</th>\n",
       "    </tr>\n",
       "    <tr>\n",
       "      <th>age_group</th>\n",
       "      <th></th>\n",
       "    </tr>\n",
       "  </thead>\n",
       "  <tbody>\n",
       "    <tr>\n",
       "      <th>0-18</th>\n",
       "      <td>3.549520</td>\n",
       "    </tr>\n",
       "    <tr>\n",
       "      <th>18-24</th>\n",
       "      <td>3.507573</td>\n",
       "    </tr>\n",
       "    <tr>\n",
       "      <th>25-34</th>\n",
       "      <td>3.545235</td>\n",
       "    </tr>\n",
       "    <tr>\n",
       "      <th>35-44</th>\n",
       "      <td>3.618162</td>\n",
       "    </tr>\n",
       "    <tr>\n",
       "      <th>45-49</th>\n",
       "      <td>3.638062</td>\n",
       "    </tr>\n",
       "    <tr>\n",
       "      <th>50-55</th>\n",
       "      <td>3.714512</td>\n",
       "    </tr>\n",
       "    <tr>\n",
       "      <th>56-100</th>\n",
       "      <td>3.766632</td>\n",
       "    </tr>\n",
       "  </tbody>\n",
       "</table>\n",
       "</div>"
      ],
      "text/plain": [
       "             rating\n",
       "               mean\n",
       "age_group          \n",
       "0-18       3.549520\n",
       "18-24      3.507573\n",
       "25-34      3.545235\n",
       "35-44      3.618162\n",
       "45-49      3.638062\n",
       "50-55      3.714512\n",
       "56-100     3.766632"
      ]
     },
     "execution_count": 19,
     "metadata": {},
     "output_type": "execute_result"
    }
   ],
   "source": [
    "movielens.groupby('age_group').agg({'rating': [np.mean]})"
   ]
  },
  {
   "cell_type": "code",
   "execution_count": 20,
   "metadata": {},
   "outputs": [],
   "source": [
    "movielens.set_index('movie_id', inplace=True)"
   ]
  },
  {
   "cell_type": "code",
   "execution_count": 21,
   "metadata": {},
   "outputs": [
    {
     "data": {
      "text/plain": [
       "title                         age_group\n",
       "2001: A Space Odyssey (1968)  0-18         4.150000\n",
       "                              18-24        3.923404\n",
       "                              25-34        4.024712\n",
       "                              35-44        4.080940\n",
       "                              45-49        4.168478\n",
       "                              50-55        4.241379\n",
       "                              56-100       4.118280\n",
       "Abyss, The (1989)             0-18         3.909091\n",
       "                              18-24        3.893939\n",
       "                              25-34        3.614509\n",
       "                              35-44        3.686217\n",
       "                              45-49        3.683099\n",
       "                              50-55        3.513514\n",
       "                              56-100       3.509091\n",
       "Name: rating, dtype: float64"
      ]
     },
     "execution_count": 21,
     "metadata": {},
     "output_type": "execute_result"
    }
   ],
   "source": [
    "most_50 = movielens.groupby('movie_id').size().sort_values(ascending=False)[:50]\n",
    "by_age = movielens.loc[most_50.index].groupby(['title', 'age_group'])\n",
    "by_age.rating.mean().head(14)"
   ]
  },
  {
   "cell_type": "code",
   "execution_count": 22,
   "metadata": {},
   "outputs": [
    {
     "data": {
      "text/html": [
       "<div>\n",
       "<style>\n",
       "    .dataframe thead tr:only-child th {\n",
       "        text-align: right;\n",
       "    }\n",
       "\n",
       "    .dataframe thead th {\n",
       "        text-align: left;\n",
       "    }\n",
       "\n",
       "    .dataframe tbody tr th {\n",
       "        vertical-align: top;\n",
       "    }\n",
       "</style>\n",
       "<table border=\"1\" class=\"dataframe\">\n",
       "  <thead>\n",
       "    <tr style=\"text-align: right;\">\n",
       "      <th>age_group</th>\n",
       "      <th>0-18</th>\n",
       "      <th>18-24</th>\n",
       "      <th>25-34</th>\n",
       "      <th>35-44</th>\n",
       "      <th>45-49</th>\n",
       "      <th>50-55</th>\n",
       "      <th>56-100</th>\n",
       "    </tr>\n",
       "    <tr>\n",
       "      <th>title</th>\n",
       "      <th></th>\n",
       "      <th></th>\n",
       "      <th></th>\n",
       "      <th></th>\n",
       "      <th></th>\n",
       "      <th></th>\n",
       "      <th></th>\n",
       "    </tr>\n",
       "  </thead>\n",
       "  <tbody>\n",
       "    <tr>\n",
       "      <th>Braveheart (1995)</th>\n",
       "      <td>4.192982</td>\n",
       "      <td>4.406250</td>\n",
       "      <td>4.254292</td>\n",
       "      <td>4.152318</td>\n",
       "      <td>4.119048</td>\n",
       "      <td>4.099476</td>\n",
       "      <td>3.969388</td>\n",
       "    </tr>\n",
       "    <tr>\n",
       "      <th>Bug's Life, A (1998)</th>\n",
       "      <td>3.587500</td>\n",
       "      <td>3.820163</td>\n",
       "      <td>3.954338</td>\n",
       "      <td>3.843931</td>\n",
       "      <td>3.707965</td>\n",
       "      <td>3.804598</td>\n",
       "      <td>3.716981</td>\n",
       "    </tr>\n",
       "    <tr>\n",
       "      <th>E.T. the Extra-Terrestrial (1982)</th>\n",
       "      <td>3.653333</td>\n",
       "      <td>3.801527</td>\n",
       "      <td>3.957111</td>\n",
       "      <td>4.004202</td>\n",
       "      <td>4.085427</td>\n",
       "      <td>4.188312</td>\n",
       "      <td>4.174419</td>\n",
       "    </tr>\n",
       "    <tr>\n",
       "      <th>Fargo (1996)</th>\n",
       "      <td>4.283019</td>\n",
       "      <td>4.175166</td>\n",
       "      <td>4.235650</td>\n",
       "      <td>4.234694</td>\n",
       "      <td>4.315789</td>\n",
       "      <td>4.396985</td>\n",
       "      <td>4.440678</td>\n",
       "    </tr>\n",
       "    <tr>\n",
       "      <th>Forrest Gump (1994)</th>\n",
       "      <td>4.168539</td>\n",
       "      <td>4.100897</td>\n",
       "      <td>4.054678</td>\n",
       "      <td>4.036939</td>\n",
       "      <td>4.187166</td>\n",
       "      <td>4.090909</td>\n",
       "      <td>4.228571</td>\n",
       "    </tr>\n",
       "    <tr>\n",
       "      <th>Fugitive, The (1993)</th>\n",
       "      <td>4.163265</td>\n",
       "      <td>4.017766</td>\n",
       "      <td>4.119904</td>\n",
       "      <td>4.136000</td>\n",
       "      <td>4.121429</td>\n",
       "      <td>4.144928</td>\n",
       "      <td>4.046154</td>\n",
       "    </tr>\n",
       "    <tr>\n",
       "      <th>Galaxy Quest (1999)</th>\n",
       "      <td>3.739130</td>\n",
       "      <td>3.656357</td>\n",
       "      <td>3.764253</td>\n",
       "      <td>3.830380</td>\n",
       "      <td>3.760736</td>\n",
       "      <td>3.901961</td>\n",
       "      <td>3.864407</td>\n",
       "    </tr>\n",
       "    <tr>\n",
       "      <th>Ghostbusters (1984)</th>\n",
       "      <td>3.881356</td>\n",
       "      <td>4.020179</td>\n",
       "      <td>3.894490</td>\n",
       "      <td>3.838407</td>\n",
       "      <td>3.966292</td>\n",
       "      <td>3.841727</td>\n",
       "      <td>3.734177</td>\n",
       "    </tr>\n",
       "    <tr>\n",
       "      <th>Gladiator (2000)</th>\n",
       "      <td>4.203390</td>\n",
       "      <td>4.231441</td>\n",
       "      <td>4.084291</td>\n",
       "      <td>3.981651</td>\n",
       "      <td>4.132231</td>\n",
       "      <td>4.163636</td>\n",
       "      <td>3.878788</td>\n",
       "    </tr>\n",
       "    <tr>\n",
       "      <th>Godfather, The (1972)</th>\n",
       "      <td>4.471698</td>\n",
       "      <td>4.505495</td>\n",
       "      <td>4.574051</td>\n",
       "      <td>4.541935</td>\n",
       "      <td>4.357843</td>\n",
       "      <td>4.540404</td>\n",
       "      <td>4.467213</td>\n",
       "    </tr>\n",
       "  </tbody>\n",
       "</table>\n",
       "</div>"
      ],
      "text/plain": [
       "age_group                              0-18     18-24     25-34     35-44  \\\n",
       "title                                                                       \n",
       "Braveheart (1995)                  4.192982  4.406250  4.254292  4.152318   \n",
       "Bug's Life, A (1998)               3.587500  3.820163  3.954338  3.843931   \n",
       "E.T. the Extra-Terrestrial (1982)  3.653333  3.801527  3.957111  4.004202   \n",
       "Fargo (1996)                       4.283019  4.175166  4.235650  4.234694   \n",
       "Forrest Gump (1994)                4.168539  4.100897  4.054678  4.036939   \n",
       "Fugitive, The (1993)               4.163265  4.017766  4.119904  4.136000   \n",
       "Galaxy Quest (1999)                3.739130  3.656357  3.764253  3.830380   \n",
       "Ghostbusters (1984)                3.881356  4.020179  3.894490  3.838407   \n",
       "Gladiator (2000)                   4.203390  4.231441  4.084291  3.981651   \n",
       "Godfather, The (1972)              4.471698  4.505495  4.574051  4.541935   \n",
       "\n",
       "age_group                             45-49     50-55    56-100  \n",
       "title                                                            \n",
       "Braveheart (1995)                  4.119048  4.099476  3.969388  \n",
       "Bug's Life, A (1998)               3.707965  3.804598  3.716981  \n",
       "E.T. the Extra-Terrestrial (1982)  4.085427  4.188312  4.174419  \n",
       "Fargo (1996)                       4.315789  4.396985  4.440678  \n",
       "Forrest Gump (1994)                4.187166  4.090909  4.228571  \n",
       "Fugitive, The (1993)               4.121429  4.144928  4.046154  \n",
       "Galaxy Quest (1999)                3.760736  3.901961  3.864407  \n",
       "Ghostbusters (1984)                3.966292  3.841727  3.734177  \n",
       "Gladiator (2000)                   4.132231  4.163636  3.878788  \n",
       "Godfather, The (1972)              4.357843  4.540404  4.467213  "
      ]
     },
     "execution_count": 22,
     "metadata": {},
     "output_type": "execute_result"
    }
   ],
   "source": [
    "by_age.rating.mean().unstack(1).fillna(0)[10:20]"
   ]
  },
  {
   "cell_type": "markdown",
   "metadata": {},
   "source": [
    "### Różnice między płciami"
   ]
  },
  {
   "cell_type": "code",
   "execution_count": 23,
   "metadata": {},
   "outputs": [],
   "source": [
    "movielens.reset_index('movie_id', inplace=True)"
   ]
  },
  {
   "cell_type": "code",
   "execution_count": 24,
   "metadata": {},
   "outputs": [],
   "source": [
    "pivoted = movielens.pivot_table(index=['movie_id', 'title'],\n",
    "                           columns=['sex'],\n",
    "                           values='rating',\n",
    "                           fill_value=0)"
   ]
  },
  {
   "cell_type": "code",
   "execution_count": 25,
   "metadata": {},
   "outputs": [
    {
     "data": {
      "text/html": [
       "<div>\n",
       "<style>\n",
       "    .dataframe thead tr:only-child th {\n",
       "        text-align: right;\n",
       "    }\n",
       "\n",
       "    .dataframe thead th {\n",
       "        text-align: left;\n",
       "    }\n",
       "\n",
       "    .dataframe tbody tr th {\n",
       "        vertical-align: top;\n",
       "    }\n",
       "</style>\n",
       "<table border=\"1\" class=\"dataframe\">\n",
       "  <thead>\n",
       "    <tr style=\"text-align: right;\">\n",
       "      <th></th>\n",
       "      <th>sex</th>\n",
       "      <th>F</th>\n",
       "      <th>M</th>\n",
       "      <th>diff</th>\n",
       "    </tr>\n",
       "    <tr>\n",
       "      <th>movie_id</th>\n",
       "      <th>title</th>\n",
       "      <th></th>\n",
       "      <th></th>\n",
       "      <th></th>\n",
       "    </tr>\n",
       "  </thead>\n",
       "  <tbody>\n",
       "    <tr>\n",
       "      <th>1</th>\n",
       "      <th>Toy Story (1995)</th>\n",
       "      <td>4.187817</td>\n",
       "      <td>4.130552</td>\n",
       "      <td>-0.057265</td>\n",
       "    </tr>\n",
       "    <tr>\n",
       "      <th>2</th>\n",
       "      <th>Jumanji (1995)</th>\n",
       "      <td>3.278409</td>\n",
       "      <td>3.175238</td>\n",
       "      <td>-0.103171</td>\n",
       "    </tr>\n",
       "    <tr>\n",
       "      <th>3</th>\n",
       "      <th>Grumpier Old Men (1995)</th>\n",
       "      <td>3.073529</td>\n",
       "      <td>2.994152</td>\n",
       "      <td>-0.079377</td>\n",
       "    </tr>\n",
       "    <tr>\n",
       "      <th>4</th>\n",
       "      <th>Waiting to Exhale (1995)</th>\n",
       "      <td>2.976471</td>\n",
       "      <td>2.482353</td>\n",
       "      <td>-0.494118</td>\n",
       "    </tr>\n",
       "    <tr>\n",
       "      <th>5</th>\n",
       "      <th>Father of the Bride Part II (1995)</th>\n",
       "      <td>3.212963</td>\n",
       "      <td>2.888298</td>\n",
       "      <td>-0.324665</td>\n",
       "    </tr>\n",
       "  </tbody>\n",
       "</table>\n",
       "</div>"
      ],
      "text/plain": [
       "sex                                                 F         M      diff\n",
       "movie_id title                                                           \n",
       "1        Toy Story (1995)                    4.187817  4.130552 -0.057265\n",
       "2        Jumanji (1995)                      3.278409  3.175238 -0.103171\n",
       "3        Grumpier Old Men (1995)             3.073529  2.994152 -0.079377\n",
       "4        Waiting to Exhale (1995)            2.976471  2.482353 -0.494118\n",
       "5        Father of the Bride Part II (1995)  3.212963  2.888298 -0.324665"
      ]
     },
     "execution_count": 25,
     "metadata": {},
     "output_type": "execute_result"
    }
   ],
   "source": [
    "pivoted['diff'] = pivoted.M - pivoted.F\n",
    "pivoted.head()"
   ]
  },
  {
   "cell_type": "code",
   "execution_count": 26,
   "metadata": {},
   "outputs": [
    {
     "data": {
      "image/png": "[encoded data removed]",
      "text/plain": [
       "<matplotlib.figure.Figure at 0x7fdeccd944e0>"
      ]
     },
     "metadata": {},
     "output_type": "display_data"
    }
   ],
   "source": [
    "pivoted.reset_index('movie_id', inplace=True)\n",
    "disagreements = pivoted[pivoted.movie_id.isin(most_50.index)]['diff']\n",
    "disagreements.sort_values().plot(kind='barh', figsize=[9, 15])\n",
    "plt.title('Male vs. Female Avg. Ratings\\n(Difference > 0 = Favored by Men)')\n",
    "plt.ylabel('Title')\n",
    "plt.xlabel('Average Rating Difference');\n",
    "plt.show()"
   ]
  },
  {
   "cell_type": "markdown",
   "metadata": {},
   "source": [
    "## Oceny w czasie"
   ]
  },
  {
   "cell_type": "markdown",
   "metadata": {},
   "source": [
    "### Ilość ocen na przestrzeni lat"
   ]
  },
  {
   "cell_type": "code",
   "execution_count": 27,
   "metadata": {},
   "outputs": [
    {
     "data": {
      "image/png": "[encoded data removed]",
      "text/plain": [
       "<matplotlib.figure.Figure at 0x7fdeccda0438>"
      ]
     },
     "metadata": {},
     "output_type": "display_data"
    }
   ],
   "source": [
    "ratings_per_years = ratings_data.groupby('year').size()\n",
    "\n",
    "x = range(len(ratings_per_years))\n",
    "plt.bar(x, ratings_per_years)\n",
    "plt.xticks(x, ratings_per_years.keys(), rotation=90)\n",
    "plt.show()"
   ]
  },
  {
   "cell_type": "markdown",
   "metadata": {},
   "source": [
    "### Ilośc ocen na przestrzeni miesięcy"
   ]
  },
  {
   "cell_type": "code",
   "execution_count": 28,
   "metadata": {},
   "outputs": [
    {
     "data": {
      "image/png": "[encoded data removed]",
      "text/plain": [
       "<matplotlib.figure.Figure at 0x7fdeccdccb38>"
      ]
     },
     "metadata": {},
     "output_type": "display_data"
    }
   ],
   "source": [
    "ratings_per_month = ratings_data.groupby('month').size()\n",
    "\n",
    "x = range(len(ratings_per_month))\n",
    "plt.bar(x, ratings_per_month)\n",
    "plt.xticks(x, ratings_per_month.keys(), rotation=90)\n",
    "plt.show()"
   ]
  },
  {
   "cell_type": "markdown",
   "metadata": {},
   "source": [
    "### Ilość ocen na przestrzeni dni tygodnia"
   ]
  },
  {
   "cell_type": "code",
   "execution_count": 29,
   "metadata": {},
   "outputs": [
    {
     "data": {
      "image/png": "[encoded data removed]",
      "text/plain": [
       "<matplotlib.figure.Figure at 0x7fdecce342e8>"
      ]
     },
     "metadata": {},
     "output_type": "display_data"
    }
   ],
   "source": [
    "ratings_per_weekday = ratings_data.groupby('weekday').size()\n",
    "\n",
    "x = range(len(ratings_per_weekday))\n",
    "plt.bar(x, ratings_per_weekday)\n",
    "plt.xticks(x, ratings_per_weekday.keys(), rotation=90)\n",
    "plt.show()"
   ]
  },
  {
   "cell_type": "code",
   "execution_count": null,
   "metadata": {},
   "outputs": [],
   "source": []
  }
 ],
 "metadata": {
  "kernelspec": {
   "display_name": "Python 3",
   "language": "python",
   "name": "python3"
  },
  "language_info": {
   "codemirror_mode": {
    "name": "ipython",
    "version": 3
   },
   "file_extension": ".py",
   "mimetype": "text/x-python",
   "name": "python",
   "nbconvert_exporter": "python",
   "pygments_lexer": "ipython3",
   "version": "3.5.2"
  }
 },
 "nbformat": 4,
 "nbformat_minor": 2
}
