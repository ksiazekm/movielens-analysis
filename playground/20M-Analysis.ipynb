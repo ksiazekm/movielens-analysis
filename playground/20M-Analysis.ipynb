{
 "cells": [
  {
   "cell_type": "markdown",
   "metadata": {},
   "source": [
    "# Movielens 20M"
   ]
  },
  {
   "cell_type": "markdown",
   "metadata": {},
   "source": [
    "Informację nt. zbioru danych -> http://files.grouplens.org/datasets/movielens/ml-20m-README.html"
   ]
  },
  {
   "cell_type": "code",
   "execution_count": 1,
   "metadata": {},
   "outputs": [],
   "source": [
    "import pandas as pd\n",
    "import numpy as np\n",
    "import matplotlib.pyplot as plt"
   ]
  },
  {
   "cell_type": "code",
   "execution_count": 2,
   "metadata": {},
   "outputs": [],
   "source": [
    "movies_data = pd.read_csv('../ml-20m/movies.csv', header=0)"
   ]
  },
  {
   "cell_type": "code",
   "execution_count": 3,
   "metadata": {},
   "outputs": [],
   "source": [
    "ratings_data = pd.read_csv('../ml-20m/ratings.csv', header=0)"
   ]
  },
  {
   "cell_type": "code",
   "execution_count": 4,
   "metadata": {},
   "outputs": [],
   "source": [
    "tags_data = pd.read_csv('../ml-20m/tags.csv', header=0)"
   ]
  },
  {
   "cell_type": "code",
   "execution_count": 5,
   "metadata": {},
   "outputs": [],
   "source": [
    "movies_and_tags = pd.merge(movies_data, tags_data)"
   ]
  },
  {
   "cell_type": "code",
   "execution_count": 6,
   "metadata": {},
   "outputs": [],
   "source": [
    "movielens = pd.merge(movies_data, ratings_data)"
   ]
  },
  {
   "cell_type": "code",
   "execution_count": 7,
   "metadata": {},
   "outputs": [],
   "source": [
    "ratings_data['datetime'] = pd.to_datetime(ratings_data.timestamp, unit='s')\n",
    "ratings_data['year'] = ratings_data.datetime.dt.year\n",
    "ratings_data['month'] = ratings_data.datetime.dt.month\n",
    "ratings_data['weekday'] = ratings_data.datetime.dt.weekday_name"
   ]
  },
  {
   "cell_type": "markdown",
   "metadata": {},
   "source": [
    "## Podstawowe metryki"
   ]
  },
  {
   "cell_type": "code",
   "execution_count": 8,
   "metadata": {},
   "outputs": [
    {
     "data": {
      "text/plain": [
       "27278"
      ]
     },
     "execution_count": 8,
     "metadata": {},
     "output_type": "execute_result"
    }
   ],
   "source": [
    "len(movies_data) # ilość filmów"
   ]
  },
  {
   "cell_type": "code",
   "execution_count": 9,
   "metadata": {},
   "outputs": [
    {
     "data": {
      "text/plain": [
       "138493"
      ]
     },
     "execution_count": 9,
     "metadata": {},
     "output_type": "execute_result"
    }
   ],
   "source": [
    "len(ratings_data.groupby('userId')) # ilość userów"
   ]
  },
  {
   "cell_type": "code",
   "execution_count": 10,
   "metadata": {},
   "outputs": [
    {
     "data": {
      "text/plain": [
       "20000263"
      ]
     },
     "execution_count": 10,
     "metadata": {},
     "output_type": "execute_result"
    }
   ],
   "source": [
    "len(ratings_data) # ilość ocen"
   ]
  },
  {
   "cell_type": "code",
   "execution_count": 11,
   "metadata": {},
   "outputs": [
    {
     "data": {
      "text/plain": [
       "465564"
      ]
     },
     "execution_count": 11,
     "metadata": {},
     "output_type": "execute_result"
    }
   ],
   "source": [
    "len(tags_data) # ilość tagów"
   ]
  },
  {
   "cell_type": "markdown",
   "metadata": {},
   "source": [
    "## Sprawdzanie szumów"
   ]
  },
  {
   "cell_type": "code",
   "execution_count": 12,
   "metadata": {},
   "outputs": [
    {
     "data": {
      "text/plain": [
       "title\n",
       "Offside (2006)                                                                                       2\n",
       "Darling (2007)                                                                                       2\n",
       "Girl, The (2012)                                                                                     2\n",
       "Blackout (2007)                                                                                      2\n",
       "Men with Guns (1997)                                                                                 2\n",
       "Casanova (2005)                                                                                      2\n",
       "Beneath (2013)                                                                                       2\n",
       "Clear History (2013)                                                                                 2\n",
       "Johnny Express (2014)                                                                                2\n",
       "Chaos (2005)                                                                                         2\n",
       "Aladdin (1992)                                                                                       2\n",
       "Paradise (2013)                                                                                      2\n",
       "20,000 Leagues Under the Sea (1997)                                                                  2\n",
       "Hamlet (2000)                                                                                        2\n",
       "Emma (1996)                                                                                          2\n",
       "War of the Worlds (2005)                                                                             2\n",
       "Friday Night (Vendredi Soir) (2002)                                                                  1\n",
       "Friend Among Strangers, Stranger Among Friends (Svoy sredi chuzhikh, chuzhoy sredi svoikh) (1974)    1\n",
       "Frida (2002)                                                                                         1\n",
       "Friday (1995)                                                                                        1\n",
       "dtype: int64"
      ]
     },
     "execution_count": 12,
     "metadata": {},
     "output_type": "execute_result"
    }
   ],
   "source": [
    "movies_data.groupby('title').size().sort_values(ascending=False)[:20]"
   ]
  },
  {
   "cell_type": "code",
   "execution_count": 13,
   "metadata": {},
   "outputs": [
    {
     "data": {
      "text/plain": [
       "userId  movieId\n",
       "138493  71619      1\n",
       "45917   2706       1\n",
       "        2424       1\n",
       "        2468       1\n",
       "        2558       1\n",
       "dtype: int64"
      ]
     },
     "execution_count": 13,
     "metadata": {},
     "output_type": "execute_result"
    }
   ],
   "source": [
    "ratings_data.groupby(['userId', 'movieId']).size().sort_values(ascending=False)[:5]"
   ]
  },
  {
   "cell_type": "markdown",
   "metadata": {},
   "source": [
    "### W zbiorze filmów jest 16 filmów które się powtarzają"
   ]
  },
  {
   "cell_type": "markdown",
   "metadata": {},
   "source": [
    "## Analiza danych o ocenach filmów"
   ]
  },
  {
   "cell_type": "markdown",
   "metadata": {},
   "source": [
    "### Metryki statystyczne ocen"
   ]
  },
  {
   "cell_type": "code",
   "execution_count": 14,
   "metadata": {},
   "outputs": [
    {
     "data": {
      "text/plain": [
       "count    2.000026e+07\n",
       "mean     3.525529e+00\n",
       "std      1.051989e+00\n",
       "min      5.000000e-01\n",
       "25%      3.000000e+00\n",
       "50%      3.500000e+00\n",
       "75%      4.000000e+00\n",
       "max      5.000000e+00\n",
       "Name: rating, dtype: float64"
      ]
     },
     "execution_count": 14,
     "metadata": {},
     "output_type": "execute_result"
    }
   ],
   "source": [
    "ratings_data.rating.describe()"
   ]
  },
  {
   "cell_type": "code",
   "execution_count": 15,
   "metadata": {},
   "outputs": [
    {
     "name": "stdout",
     "output_type": "stream",
     "text": [
      "rating\n",
      "0.5     239125\n",
      "1.0     680732\n",
      "1.5     279252\n",
      "2.0    1430997\n",
      "2.5     883398\n",
      "3.0    4291193\n",
      "3.5    2200156\n",
      "4.0    5561926\n",
      "4.5    1534824\n",
      "5.0    2898660\n",
      "dtype: int64\n"
     ]
    },
    {
     "data": {
      "image/png": "[encoded data removed]",
      "text/plain": [
       "<matplotlib.figure.Figure at 0x7f114b999518>"
      ]
     },
     "metadata": {},
     "output_type": "display_data"
    }
   ],
   "source": [
    "grouped_ratings = movielens.groupby('rating').size()\n",
    "print(grouped_ratings)\n",
    "\n",
    "x = range(len(grouped_ratings))\n",
    "\n",
    "plt.bar(x, grouped_ratings)\n",
    "plt.xticks(x, grouped_ratings.keys())\n",
    "plt.show()"
   ]
  },
  {
   "cell_type": "markdown",
   "metadata": {},
   "source": [
    "### 25 najczęściej ocenianych filmów"
   ]
  },
  {
   "cell_type": "code",
   "execution_count": 16,
   "metadata": {},
   "outputs": [
    {
     "data": {
      "text/plain": [
       "Pulp Fiction (1994)                                                               67310\n",
       "Forrest Gump (1994)                                                               66172\n",
       "Shawshank Redemption, The (1994)                                                  63366\n",
       "Silence of the Lambs, The (1991)                                                  63299\n",
       "Jurassic Park (1993)                                                              59715\n",
       "Star Wars: Episode IV - A New Hope (1977)                                         54502\n",
       "Braveheart (1995)                                                                 53769\n",
       "Terminator 2: Judgment Day (1991)                                                 52244\n",
       "Matrix, The (1999)                                                                51334\n",
       "Schindler's List (1993)                                                           50054\n",
       "Toy Story (1995)                                                                  49695\n",
       "Fugitive, The (1993)                                                              49581\n",
       "Apollo 13 (1995)                                                                  47777\n",
       "Independence Day (a.k.a. ID4) (1996)                                              47048\n",
       "Usual Suspects, The (1995)                                                        47006\n",
       "Star Wars: Episode VI - Return of the Jedi (1983)                                 46839\n",
       "Batman (1989)                                                                     46054\n",
       "Star Wars: Episode V - The Empire Strikes Back (1980)                             45313\n",
       "American Beauty (1999)                                                            44987\n",
       "Twelve Monkeys (a.k.a. 12 Monkeys) (1995)                                         44980\n",
       "Dances with Wolves (1990)                                                         44208\n",
       "Raiders of the Lost Ark (Indiana Jones and the Raiders of the Lost Ark) (1981)    43295\n",
       "Fargo (1996)                                                                      43272\n",
       "Seven (a.k.a. Se7en) (1995)                                                       43249\n",
       "True Lies (1994)                                                                  43159\n",
       "Name: title, dtype: int64"
      ]
     },
     "execution_count": 16,
     "metadata": {},
     "output_type": "execute_result"
    }
   ],
   "source": [
    "movielens.title.value_counts()[:25]"
   ]
  },
  {
   "cell_type": "markdown",
   "metadata": {},
   "source": [
    "### 25 najlepiej ocenianych filmów"
   ]
  },
  {
   "cell_type": "code",
   "execution_count": 17,
   "metadata": {},
   "outputs": [
    {
     "data": {
      "text/html": [
       "<div>\n",
       "<style>\n",
       "    .dataframe thead tr:only-child th {\n",
       "        text-align: right;\n",
       "    }\n",
       "\n",
       "    .dataframe thead th {\n",
       "        text-align: left;\n",
       "    }\n",
       "\n",
       "    .dataframe tbody tr th {\n",
       "        vertical-align: top;\n",
       "    }\n",
       "</style>\n",
       "<table border=\"1\" class=\"dataframe\">\n",
       "  <thead>\n",
       "    <tr>\n",
       "      <th></th>\n",
       "      <th colspan=\"2\" halign=\"left\">rating</th>\n",
       "    </tr>\n",
       "    <tr>\n",
       "      <th></th>\n",
       "      <th>size</th>\n",
       "      <th>mean</th>\n",
       "    </tr>\n",
       "    <tr>\n",
       "      <th>title</th>\n",
       "      <th></th>\n",
       "      <th></th>\n",
       "    </tr>\n",
       "  </thead>\n",
       "  <tbody>\n",
       "    <tr>\n",
       "      <th>Shawshank Redemption, The (1994)</th>\n",
       "      <td>63366.0</td>\n",
       "      <td>4.446990</td>\n",
       "    </tr>\n",
       "    <tr>\n",
       "      <th>Godfather, The (1972)</th>\n",
       "      <td>41355.0</td>\n",
       "      <td>4.364732</td>\n",
       "    </tr>\n",
       "    <tr>\n",
       "      <th>Usual Suspects, The (1995)</th>\n",
       "      <td>47006.0</td>\n",
       "      <td>4.334372</td>\n",
       "    </tr>\n",
       "    <tr>\n",
       "      <th>Schindler's List (1993)</th>\n",
       "      <td>50054.0</td>\n",
       "      <td>4.310175</td>\n",
       "    </tr>\n",
       "    <tr>\n",
       "      <th>Godfather: Part II, The (1974)</th>\n",
       "      <td>27398.0</td>\n",
       "      <td>4.275641</td>\n",
       "    </tr>\n",
       "    <tr>\n",
       "      <th>Seven Samurai (Shichinin no samurai) (1954)</th>\n",
       "      <td>11611.0</td>\n",
       "      <td>4.274180</td>\n",
       "    </tr>\n",
       "    <tr>\n",
       "      <th>Rear Window (1954)</th>\n",
       "      <td>17449.0</td>\n",
       "      <td>4.271334</td>\n",
       "    </tr>\n",
       "    <tr>\n",
       "      <th>Band of Brothers (2001)</th>\n",
       "      <td>4305.0</td>\n",
       "      <td>4.263182</td>\n",
       "    </tr>\n",
       "    <tr>\n",
       "      <th>Casablanca (1942)</th>\n",
       "      <td>24349.0</td>\n",
       "      <td>4.258327</td>\n",
       "    </tr>\n",
       "    <tr>\n",
       "      <th>Sunset Blvd. (a.k.a. Sunset Boulevard) (1950)</th>\n",
       "      <td>6525.0</td>\n",
       "      <td>4.256935</td>\n",
       "    </tr>\n",
       "    <tr>\n",
       "      <th>One Flew Over the Cuckoo's Nest (1975)</th>\n",
       "      <td>29932.0</td>\n",
       "      <td>4.248079</td>\n",
       "    </tr>\n",
       "    <tr>\n",
       "      <th>Dr. Strangelove or: How I Learned to Stop Worrying and Love the Bomb (1964)</th>\n",
       "      <td>23220.0</td>\n",
       "      <td>4.247287</td>\n",
       "    </tr>\n",
       "    <tr>\n",
       "      <th>Third Man, The (1949)</th>\n",
       "      <td>6565.0</td>\n",
       "      <td>4.246002</td>\n",
       "    </tr>\n",
       "    <tr>\n",
       "      <th>City of God (Cidade de Deus) (2002)</th>\n",
       "      <td>12937.0</td>\n",
       "      <td>4.235410</td>\n",
       "    </tr>\n",
       "    <tr>\n",
       "      <th>Lives of Others, The (Das leben der Anderen) (2006)</th>\n",
       "      <td>5720.0</td>\n",
       "      <td>4.234790</td>\n",
       "    </tr>\n",
       "    <tr>\n",
       "      <th>North by Northwest (1959)</th>\n",
       "      <td>15627.0</td>\n",
       "      <td>4.233538</td>\n",
       "    </tr>\n",
       "    <tr>\n",
       "      <th>Paths of Glory (1957)</th>\n",
       "      <td>3568.0</td>\n",
       "      <td>4.232623</td>\n",
       "    </tr>\n",
       "    <tr>\n",
       "      <th>Fight Club (1999)</th>\n",
       "      <td>40106.0</td>\n",
       "      <td>4.227123</td>\n",
       "    </tr>\n",
       "    <tr>\n",
       "      <th>Double Indemnity (1944)</th>\n",
       "      <td>4909.0</td>\n",
       "      <td>4.224282</td>\n",
       "    </tr>\n",
       "    <tr>\n",
       "      <th>12 Angry Men (1957)</th>\n",
       "      <td>12934.0</td>\n",
       "      <td>4.224138</td>\n",
       "    </tr>\n",
       "    <tr>\n",
       "      <th>Cosmos (1980)</th>\n",
       "      <td>936.0</td>\n",
       "      <td>4.220620</td>\n",
       "    </tr>\n",
       "    <tr>\n",
       "      <th>Dark Knight, The (2008)</th>\n",
       "      <td>20438.0</td>\n",
       "      <td>4.220129</td>\n",
       "    </tr>\n",
       "    <tr>\n",
       "      <th>Raiders of the Lost Ark (Indiana Jones and the Raiders of the Lost Ark) (1981)</th>\n",
       "      <td>43295.0</td>\n",
       "      <td>4.219009</td>\n",
       "    </tr>\n",
       "    <tr>\n",
       "      <th>Yojimbo (1961)</th>\n",
       "      <td>3559.0</td>\n",
       "      <td>4.211717</td>\n",
       "    </tr>\n",
       "    <tr>\n",
       "      <th>Big Sleep, The (1946)</th>\n",
       "      <td>5529.0</td>\n",
       "      <td>4.207361</td>\n",
       "    </tr>\n",
       "  </tbody>\n",
       "</table>\n",
       "</div>"
      ],
      "text/plain": [
       "                                                     rating          \n",
       "                                                       size      mean\n",
       "title                                                                \n",
       "Shawshank Redemption, The (1994)                    63366.0  4.446990\n",
       "Godfather, The (1972)                               41355.0  4.364732\n",
       "Usual Suspects, The (1995)                          47006.0  4.334372\n",
       "Schindler's List (1993)                             50054.0  4.310175\n",
       "Godfather: Part II, The (1974)                      27398.0  4.275641\n",
       "Seven Samurai (Shichinin no samurai) (1954)         11611.0  4.274180\n",
       "Rear Window (1954)                                  17449.0  4.271334\n",
       "Band of Brothers (2001)                              4305.0  4.263182\n",
       "Casablanca (1942)                                   24349.0  4.258327\n",
       "Sunset Blvd. (a.k.a. Sunset Boulevard) (1950)        6525.0  4.256935\n",
       "One Flew Over the Cuckoo's Nest (1975)              29932.0  4.248079\n",
       "Dr. Strangelove or: How I Learned to Stop Worry...  23220.0  4.247287\n",
       "Third Man, The (1949)                                6565.0  4.246002\n",
       "City of God (Cidade de Deus) (2002)                 12937.0  4.235410\n",
       "Lives of Others, The (Das leben der Anderen) (2...   5720.0  4.234790\n",
       "North by Northwest (1959)                           15627.0  4.233538\n",
       "Paths of Glory (1957)                                3568.0  4.232623\n",
       "Fight Club (1999)                                   40106.0  4.227123\n",
       "Double Indemnity (1944)                              4909.0  4.224282\n",
       "12 Angry Men (1957)                                 12934.0  4.224138\n",
       "Cosmos (1980)                                         936.0  4.220620\n",
       "Dark Knight, The (2008)                             20438.0  4.220129\n",
       "Raiders of the Lost Ark (Indiana Jones and the ...  43295.0  4.219009\n",
       "Yojimbo (1961)                                       3559.0  4.211717\n",
       "Big Sleep, The (1946)                                5529.0  4.207361"
      ]
     },
     "execution_count": 17,
     "metadata": {},
     "output_type": "execute_result"
    }
   ],
   "source": [
    "movie_ratings = movielens.groupby('title').agg({'rating': [np.size, np.mean]})\n",
    "movie_ratings.sort_values([('rating', 'size')])\n",
    "at_least_100_ratings = movie_ratings['rating']['size'] >= 100\n",
    "movie_ratings[at_least_100_ratings].sort_values([('rating', 'mean')], ascending=False)[:25]"
   ]
  },
  {
   "cell_type": "markdown",
   "metadata": {},
   "source": [
    "### Metryki statystyczne ilości ocen w ujęciu użytkowników"
   ]
  },
  {
   "cell_type": "code",
   "execution_count": 18,
   "metadata": {},
   "outputs": [
    {
     "data": {
      "text/plain": [
       "count    138493.000000\n",
       "mean        144.413530\n",
       "std         230.267257\n",
       "min          20.000000\n",
       "25%          35.000000\n",
       "50%          68.000000\n",
       "75%         155.000000\n",
       "max        9254.000000\n",
       "dtype: float64"
      ]
     },
     "execution_count": 18,
     "metadata": {},
     "output_type": "execute_result"
    }
   ],
   "source": [
    "movielens.groupby('userId').size().describe()"
   ]
  },
  {
   "cell_type": "markdown",
   "metadata": {},
   "source": [
    "## Oceny w czasie"
   ]
  },
  {
   "cell_type": "markdown",
   "metadata": {},
   "source": [
    "### Ilość ocen na przestrzeni lat"
   ]
  },
  {
   "cell_type": "code",
   "execution_count": 19,
   "metadata": {
    "scrolled": true
   },
   "outputs": [
    {
     "data": {
      "image/png": "[encoded data removed]",
      "text/plain": [
       "<matplotlib.figure.Figure at 0x7f114a531c50>"
      ]
     },
     "metadata": {},
     "output_type": "display_data"
    }
   ],
   "source": [
    "ratings_per_years = ratings_data.groupby('year').size()\n",
    "\n",
    "x = range(len(ratings_per_years))\n",
    "plt.bar(x, ratings_per_years)\n",
    "plt.xticks(x, ratings_per_years.keys(), rotation=90)\n",
    "plt.show()"
   ]
  },
  {
   "cell_type": "markdown",
   "metadata": {},
   "source": [
    "### Ilośc ocen na przestrzeni miesięcy"
   ]
  },
  {
   "cell_type": "code",
   "execution_count": 20,
   "metadata": {},
   "outputs": [
    {
     "data": {
      "image/png": "[encoded data removed]",
      "text/plain": [
       "<matplotlib.figure.Figure at 0x7f117ab11d68>"
      ]
     },
     "metadata": {},
     "output_type": "display_data"
    }
   ],
   "source": [
    "ratings_per_month = ratings_data.groupby('month').size()\n",
    "\n",
    "x = range(len(ratings_per_month))\n",
    "plt.bar(x, ratings_per_month)\n",
    "plt.xticks(x, ratings_per_month.keys(), rotation=90)\n",
    "plt.show()"
   ]
  },
  {
   "cell_type": "markdown",
   "metadata": {},
   "source": [
    "### Ilość ocen na przestrzeni dni tygodnia"
   ]
  },
  {
   "cell_type": "code",
   "execution_count": 21,
   "metadata": {},
   "outputs": [
    {
     "data": {
      "image/png": "[encoded data removed]",
      "text/plain": [
       "<matplotlib.figure.Figure at 0x7f114b8df438>"
      ]
     },
     "metadata": {},
     "output_type": "display_data"
    }
   ],
   "source": [
    "ratings_per_weekday = ratings_data.groupby('weekday').size()\n",
    "\n",
    "x = range(len(ratings_per_weekday))\n",
    "plt.bar(x, ratings_per_weekday)\n",
    "plt.xticks(x, ratings_per_weekday.keys(), rotation=90)\n",
    "plt.show()"
   ]
  },
  {
   "cell_type": "markdown",
   "metadata": {},
   "source": [
    "## Analiza tagów nadanych przez użytkoników"
   ]
  },
  {
   "cell_type": "markdown",
   "metadata": {},
   "source": [
    "### Ilość tagów per user"
   ]
  },
  {
   "cell_type": "code",
   "execution_count": 22,
   "metadata": {},
   "outputs": [
    {
     "data": {
      "text/plain": [
       "count     7801.000000\n",
       "mean        59.680041\n",
       "std        414.804414\n",
       "min          1.000000\n",
       "25%          2.000000\n",
       "50%          4.000000\n",
       "75%         20.000000\n",
       "max      20356.000000\n",
       "dtype: float64"
      ]
     },
     "execution_count": 22,
     "metadata": {},
     "output_type": "execute_result"
    }
   ],
   "source": [
    "tags_data.groupby('userId').size().describe()"
   ]
  },
  {
   "cell_type": "markdown",
   "metadata": {},
   "source": [
    "### Ilość tagów per film"
   ]
  },
  {
   "cell_type": "code",
   "execution_count": 23,
   "metadata": {},
   "outputs": [
    {
     "data": {
      "text/plain": [
       "count    19545.000000\n",
       "mean        23.820107\n",
       "std         70.071439\n",
       "min          1.000000\n",
       "25%          2.000000\n",
       "50%          5.000000\n",
       "75%         16.000000\n",
       "max       1994.000000\n",
       "dtype: float64"
      ]
     },
     "execution_count": 23,
     "metadata": {},
     "output_type": "execute_result"
    }
   ],
   "source": [
    "tags_data.groupby('movieId').size().describe()"
   ]
  },
  {
   "cell_type": "markdown",
   "metadata": {},
   "source": [
    "### Najpopularniejsze tagi"
   ]
  },
  {
   "cell_type": "code",
   "execution_count": 24,
   "metadata": {},
   "outputs": [
    {
     "data": {
      "text/plain": [
       "tag\n",
       "sci-fi             3384\n",
       "based on a book    3281\n",
       "atmospheric        2917\n",
       "comedy             2779\n",
       "action             2657\n",
       "surreal            2427\n",
       "BD-R               2334\n",
       "twist ending       2323\n",
       "funny              2072\n",
       "dystopia           1991\n",
       "dtype: int64"
      ]
     },
     "execution_count": 24,
     "metadata": {},
     "output_type": "execute_result"
    }
   ],
   "source": [
    "tags_data.groupby('tag').size().sort_values(ascending=False)[:10]"
   ]
  },
  {
   "cell_type": "markdown",
   "metadata": {},
   "source": [
    "### Najpopularniejsze tagowane filmy"
   ]
  },
  {
   "cell_type": "code",
   "execution_count": 25,
   "metadata": {},
   "outputs": [
    {
     "data": {
      "text/plain": [
       "title\n",
       "Pulp Fiction (1994)                             1994\n",
       "Fight Club (1999)                               1779\n",
       "Inception (2010)                                1552\n",
       "Matrix, The (1999)                              1430\n",
       "Shawshank Redemption, The (1994)                1339\n",
       "Eternal Sunshine of the Spotless Mind (2004)    1240\n",
       "Donnie Darko (2001)                             1177\n",
       "Memento (2000)                                  1168\n",
       "Silence of the Lambs, The (1991)                1100\n",
       "Avatar (2009)                                    995\n",
       "dtype: int64"
      ]
     },
     "execution_count": 25,
     "metadata": {},
     "output_type": "execute_result"
    }
   ],
   "source": [
    "movies_and_tags.groupby(['title']).size().sort_values(ascending=False)[:10]"
   ]
  }
 ],
 "metadata": {
  "kernelspec": {
   "display_name": "Python 3",
   "language": "python",
   "name": "python3"
  },
  "language_info": {
   "codemirror_mode": {
    "name": "ipython",
    "version": 3
   },
   "file_extension": ".py",
   "mimetype": "text/x-python",
   "name": "python",
   "nbconvert_exporter": "python",
   "pygments_lexer": "ipython3",
   "version": "3.5.2"
  }
 },
 "nbformat": 4,
 "nbformat_minor": 2
}
